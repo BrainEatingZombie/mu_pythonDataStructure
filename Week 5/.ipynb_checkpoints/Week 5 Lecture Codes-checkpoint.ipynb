{
 "cells": [
  {
   "cell_type": "markdown",
   "metadata": {},
   "source": [
    "Dictionaries are Python's most powerful data collection. It allows users to perform fast database like operations in Python. In Java it is known as Properties/Map/Hashmap, In Perl/PHP it is called Associative Array and so on. This data collection stores values as a key-value pair and uses indexing. The keys in dictionary do not have to be strings it can be anything."
   ]
  },
  {
   "cell_type": "code",
   "execution_count": 9,
   "metadata": {},
   "outputs": [
    {
     "name": "stdout",
     "output_type": "stream",
     "text": [
      "{'money': 12, 'candy': 3, 'tissues': 75, 1: 'bottle'}\n",
      "3\n",
      "5\n"
     ]
    }
   ],
   "source": [
    "purse = dict()\n",
    "purse['money'] = 12 #Here, 'money' is the key and 12 is the value \n",
    "purse['candy'] = 3\n",
    "purse['tissues'] = 75\n",
    "purse[1] = 'bottle'\n",
    "print(purse)\n",
    "print(purse['candy'])\n",
    "purse['candy'] = purse['candy'] + 2\n",
    "print(purse['candy'])"
   ]
  },
  {
   "cell_type": "markdown",
   "metadata": {},
   "source": [
    "Dictionaries are almost same as lists. Their key difference is dictionaries use keys instead of numbers to fetch the values. "
   ]
  },
  {
   "cell_type": "code",
   "execution_count": 8,
   "metadata": {},
   "outputs": [
    {
     "name": "stdout",
     "output_type": "stream",
     "text": [
      "[21, 183]\n",
      "[23, 183]\n",
      "{'age': 21, 'course': 183}\n",
      "{'age': 23, 'course': 183}\n"
     ]
    }
   ],
   "source": [
    "#Both perform exactly same operations and produce same results\n",
    "#One of them utilizes list and other one dictionary\n",
    "\n",
    "lst = list()\n",
    "lst.append(21)\n",
    "lst.append(183)\n",
    "print(lst)\n",
    "lst[0] = 23\n",
    "print(lst)\n",
    "\n",
    "ddd = dict()\n",
    "ddd['age'] = 21\n",
    "ddd['course'] = 183\n",
    "print(ddd)\n",
    "ddd['age'] = 23\n",
    "print(ddd)"
   ]
  },
  {
   "cell_type": "markdown",
   "metadata": {},
   "source": [
    "By using dictionary, we can count how often a certain something occurs."
   ]
  },
  {
   "cell_type": "code",
   "execution_count": 3,
   "metadata": {},
   "outputs": [
    {
     "name": "stdout",
     "output_type": "stream",
     "text": [
      "{'csev': 1, 'cwen': 1}\n",
      "{'csev': 1, 'cwen': 2}\n"
     ]
    }
   ],
   "source": [
    "ccc =dict()\n",
    "ccc['csev'] = 1\n",
    "ccc['cwen'] = 1\n",
    "print(ccc)\n",
    "ccc['cwen'] = ccc['cwen'] + 1\n",
    "print(ccc)"
   ]
  },
  {
   "cell_type": "markdown",
   "metadata": {},
   "source": [
    "A key that does not exist cannot be found in a dictionary. Naturally, python will throw an error. Similar to lists, to check if a key exists or not, 'in' operator is used."
   ]
  },
  {
   "cell_type": "code",
   "execution_count": 4,
   "metadata": {},
   "outputs": [
    {
     "data": {
      "text/plain": [
       "False"
      ]
     },
     "execution_count": 4,
     "metadata": {},
     "output_type": "execute_result"
    }
   ],
   "source": [
    "ccc = dict()\n",
    "# print(ccc['csev'])    # This line will cause an error, uncomment to see\n",
    "'csev' in ccc"
   ]
  },
  {
   "cell_type": "markdown",
   "metadata": {},
   "source": [
    "Now, we'll use a dictionary to count names. It will count the names and how often they appear. If a name exists as a key, then we increase the value by 1 and if the name doesn't exist we'll add the name as a key and give it a value 1"
   ]
  },
  {
   "cell_type": "code",
   "execution_count": 5,
   "metadata": {},
   "outputs": [
    {
     "name": "stdout",
     "output_type": "stream",
     "text": [
      "{'csev': 2, 'cwen': 2, 'zqian': 1}\n"
     ]
    }
   ],
   "source": [
    "counts = dict()\n",
    "names = ['csev' , 'cwen' , 'csev' , 'zqian' , 'cwen']\n",
    "for name in names:\n",
    "    if name not in counts:\n",
    "        counts[name] = 1\n",
    "    else:\n",
    "        counts[name] = counts[name] + 1\n",
    "print(counts)"
   ]
  },
  {
   "cell_type": "markdown",
   "metadata": {},
   "source": [
    "We can use the get method to check if a key exists and if it doesn't, we can set a default value. It does the same operation as the if else statements in previous section"
   ]
  },
  {
   "cell_type": "code",
   "execution_count": 16,
   "metadata": {},
   "outputs": [
    {
     "name": "stdout",
     "output_type": "stream",
     "text": [
      "{'csev': 2, 'cwen': 2, 'zqian': 1}\n"
     ]
    }
   ],
   "source": [
    "counts = dict()\n",
    "names = ['csev' , 'cwen' , 'csev' , 'zqian' , 'cwen']\n",
    "for name in names:  \n",
    "    counts[name] = counts.get(name , 0) + 1\n",
    "print(counts)"
   ]
  },
  {
   "cell_type": "code",
   "execution_count": null,
   "metadata": {},
   "outputs": [],
   "source": []
  }
 ],
 "metadata": {
  "kernelspec": {
   "display_name": "Python 3",
   "language": "python",
   "name": "python3"
  },
  "language_info": {
   "codemirror_mode": {
    "name": "ipython",
    "version": 3
   },
   "file_extension": ".py",
   "mimetype": "text/x-python",
   "name": "python",
   "nbconvert_exporter": "python",
   "pygments_lexer": "ipython3",
   "version": "3.7.3"
  }
 },
 "nbformat": 4,
 "nbformat_minor": 2
}

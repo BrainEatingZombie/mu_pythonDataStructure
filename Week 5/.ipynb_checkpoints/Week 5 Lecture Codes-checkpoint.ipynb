{
 "cells": [
  {
   "cell_type": "markdown",
   "metadata": {},
   "source": [
    "Dictionaries are Python's most powerful data collection. It allows users to perform fast database like operations in Python. In Java it is known as Properties/Map/Hashmap, In Perl/PHP it is called Associative Array and so on. This data collection stores values as a key-value pair and uses indexing. The keys in dictionary do not have to be strings it can be anything."
   ]
  },
  {
   "cell_type": "code",
   "execution_count": 9,
   "metadata": {},
   "outputs": [
    {
     "name": "stdout",
     "output_type": "stream",
     "text": [
      "{'money': 12, 'candy': 3, 'tissues': 75, 1: 'bottle'}\n",
      "3\n",
      "5\n"
     ]
    }
   ],
   "source": [
    "purse = dict()\n",
    "purse['money'] = 12 #Here, 'money' is the key and 12 is the value \n",
    "purse['candy'] = 3\n",
    "purse['tissues'] = 75\n",
    "purse[1] = 'bottle'\n",
    "print(purse)\n",
    "print(purse['candy'])\n",
    "purse['candy'] = purse['candy'] + 2\n",
    "print(purse['candy'])"
   ]
  },
  {
   "cell_type": "markdown",
   "metadata": {},
   "source": [
    "Dictionaries are almost same as lists. Their key difference is dictionaries use keys instead of numbers to fetch the values. "
   ]
  },
  {
   "cell_type": "code",
   "execution_count": 8,
   "metadata": {},
   "outputs": [
    {
     "name": "stdout",
     "output_type": "stream",
     "text": [
      "[21, 183]\n",
      "[23, 183]\n",
      "{'age': 21, 'course': 183}\n",
      "{'age': 23, 'course': 183}\n"
     ]
    }
   ],
   "source": [
    "#Both perform exactly same operations and produce same results\n",
    "#One of them utilizes list and other one dictionary\n",
    "\n",
    "lst = list()\n",
    "lst.append(21)\n",
    "lst.append(183)\n",
    "print(lst)\n",
    "lst[0] = 23\n",
    "print(lst)\n",
    "\n",
    "ddd = dict()\n",
    "ddd['age'] = 21\n",
    "ddd['course'] = 183\n",
    "print(ddd)\n",
    "ddd['age'] = 23\n",
    "print(ddd)"
   ]
  },
  {
   "cell_type": "markdown",
   "metadata": {},
   "source": [
    "By using dictionary, we can count how often a certain something occurs."
   ]
  },
  {
   "cell_type": "code",
   "execution_count": 3,
   "metadata": {},
   "outputs": [
    {
     "name": "stdout",
     "output_type": "stream",
     "text": [
      "{'csev': 1, 'cwen': 1}\n",
      "{'csev': 1, 'cwen': 2}\n"
     ]
    }
   ],
   "source": [
    "ccc =dict()\n",
    "ccc['csev'] = 1\n",
    "ccc['cwen'] = 1\n",
    "print(ccc)\n",
    "ccc['cwen'] = ccc['cwen'] + 1\n",
    "print(ccc)"
   ]
  },
  {
   "cell_type": "markdown",
   "metadata": {},
   "source": [
    "A key that does not exist cannot be found in a dictionary. Naturally, python will throw an error. Similar to lists, to check if a key exists or not, 'in' operator is used."
   ]
  },
  {
   "cell_type": "code",
   "execution_count": 4,
   "metadata": {},
   "outputs": [
    {
     "data": {
      "text/plain": [
       "False"
      ]
     },
     "execution_count": 4,
     "metadata": {},
     "output_type": "execute_result"
    }
   ],
   "source": [
    "ccc = dict()\n",
    "# print(ccc['csev'])    # This line will cause an error, uncomment to see\n",
    "'csev' in ccc"
   ]
  },
  {
   "cell_type": "markdown",
   "metadata": {},
   "source": [
    "Now, we'll use a dictionary to count names. It will count the names and how often they appear. If a name exists as a key, then we increase the value by 1 and if the name doesn't exist we'll add the name as a key and give it a value 1"
   ]
  },
  {
   "cell_type": "code",
   "execution_count": 5,
   "metadata": {},
   "outputs": [
    {
     "name": "stdout",
     "output_type": "stream",
     "text": [
      "{'csev': 2, 'cwen': 2, 'zqian': 1}\n"
     ]
    }
   ],
   "source": [
    "counts = dict()\n",
    "names = ['csev' , 'cwen' , 'csev' , 'zqian' , 'cwen']\n",
    "for name in names:\n",
    "    if name not in counts:\n",
    "        counts[name] = 1\n",
    "    else:\n",
    "        counts[name] = counts[name] + 1\n",
    "print(counts)"
   ]
  },
  {
   "cell_type": "markdown",
   "metadata": {},
   "source": [
    "We can use the get method to check if a key exists and if it doesn't, we can set a default value. It does the same operation as the if else statements in previous section"
   ]
  },
  {
   "cell_type": "code",
   "execution_count": 16,
   "metadata": {},
   "outputs": [
    {
     "name": "stdout",
     "output_type": "stream",
     "text": [
      "{'csev': 2, 'cwen': 2, 'zqian': 1}\n"
     ]
    }
   ],
   "source": [
    "counts = dict()\n",
    "names = ['csev' , 'cwen' , 'csev' , 'zqian' , 'cwen']\n",
    "for name in names:  \n",
    "    counts[name] = counts.get(name , 0) + 1\n",
    "print(counts)"
   ]
  },
  {
   "cell_type": "markdown",
   "metadata": {},
   "source": [
    "The following code shows how we can count words in a string using dictionary and data structure. A user will enter lines of text, our code will read those lines and show us how many times each of the words occured"
   ]
  },
  {
   "cell_type": "code",
   "execution_count": 4,
   "metadata": {},
   "outputs": [
    {
     "name": "stdout",
     "output_type": "stream",
     "text": [
      "Enter a line of text: let me tell you a story to chill the bone bones about a thing that I saw One night wandering in the everglades I'd want drink but no more I was rambling  enjoying the bright moonlight gazing up at the stars Not aware of a presence so near to me watching my every move \n",
      "Words: ['let', 'me', 'tell', 'you', 'a', 'story', 'to', 'chill', 'the', 'bone', 'bones', 'about', 'a', 'thing', 'that', 'I', 'saw', 'One', 'night', 'wandering', 'in', 'the', 'everglades', \"I'd\", 'want', 'drink', 'but', 'no', 'more', 'I', 'was', 'rambling', 'enjoying', 'the', 'bright', 'moonlight', 'gazing', 'up', 'at', 'the', 'stars', 'Not', 'aware', 'of', 'a', 'presence', 'so', 'near', 'to', 'me', 'watching', 'my', 'every', 'move']\n",
      "Counting...\n",
      "Counts  {'let': 1, 'me': 2, 'tell': 1, 'you': 1, 'a': 3, 'story': 1, 'to': 2, 'chill': 1, 'the': 4, 'bone': 1, 'bones': 1, 'about': 1, 'thing': 1, 'that': 1, 'I': 2, 'saw': 1, 'One': 1, 'night': 1, 'wandering': 1, 'in': 1, 'everglades': 1, \"I'd\": 1, 'want': 1, 'drink': 1, 'but': 1, 'no': 1, 'more': 1, 'was': 1, 'rambling': 1, 'enjoying': 1, 'bright': 1, 'moonlight': 1, 'gazing': 1, 'up': 1, 'at': 1, 'stars': 1, 'Not': 1, 'aware': 1, 'of': 1, 'presence': 1, 'so': 1, 'near': 1, 'watching': 1, 'my': 1, 'every': 1, 'move': 1}\n"
     ]
    }
   ],
   "source": [
    "counts = dict()\n",
    "# print(\"\")\n",
    "line = input('Enter a line of text: ')\n",
    "\n",
    "words = line.split()\n",
    "print('Words:' , words)\n",
    "print('Counting...')\n",
    "for word in words:\n",
    "    counts[word] = counts.get(word , 0) + 1\n",
    "print('Counts ' , counts)"
   ]
  },
  {
   "cell_type": "markdown",
   "metadata": {},
   "source": [
    "In Python 3.7+ the dictionary is sorted according to entry. In previous versions, the elements appear randomly. to iterate through a dictionary the key values are used."
   ]
  },
  {
   "cell_type": "code",
   "execution_count": 5,
   "metadata": {},
   "outputs": [
    {
     "name": "stdout",
     "output_type": "stream",
     "text": [
      "chuck 1\n",
      "fred 42\n",
      "jan 100\n"
     ]
    }
   ],
   "source": [
    "counts = {'chuck': 1 , 'fred':42 , 'jan':100}\n",
    "for key in counts:\n",
    "    print(key, counts[key])"
   ]
  },
  {
   "cell_type": "markdown",
   "metadata": {},
   "source": [
    "We can convert the elements(keys and values) of a dictionary to lists"
   ]
  },
  {
   "cell_type": "code",
   "execution_count": 8,
   "metadata": {},
   "outputs": [
    {
     "name": "stdout",
     "output_type": "stream",
     "text": [
      "['chuck', 'fred', 'jan']\n",
      "dict_keys(['chuck', 'fred', 'jan'])\n",
      "dict_values([1, 42, 100])\n",
      "dict_items([('chuck', 1), ('fred', 42), ('jan', 100)])\n"
     ]
    }
   ],
   "source": [
    "jjj = {'chuck': 1 , 'fred':42 , 'jan':100}\n",
    "print(list(jjj))\n",
    "print(jjj.keys())\n",
    "print(jjj.values())\n",
    "print(jjj.items())"
   ]
  },
  {
   "cell_type": "markdown",
   "metadata": {},
   "source": [
    "Additionally, Python can iterate through 2 variables at a time. This feature can be implemented while fetching data from a dictionary"
   ]
  },
  {
   "cell_type": "code",
   "execution_count": 9,
   "metadata": {},
   "outputs": [
    {
     "name": "stdout",
     "output_type": "stream",
     "text": [
      "chuck 1\n",
      "fred 42\n",
      "jan 100\n"
     ]
    }
   ],
   "source": [
    "jjj = {'chuck': 1 , 'fred':42 , 'jan':100}\n",
    "for a,b in jjj.items():\n",
    "    print(a,b)"
   ]
  },
  {
   "cell_type": "markdown",
   "metadata": {},
   "source": [
    "The following code represents how to find the word that occured most number of times in a given file. This codes keeps track of the words as keys and their count as the value."
   ]
  },
  {
   "cell_type": "code",
   "execution_count": 11,
   "metadata": {},
   "outputs": [
    {
     "name": "stdout",
     "output_type": "stream",
     "text": [
      "Enter File: romeo.txt\n",
      "is 3\n"
     ]
    }
   ],
   "source": [
    "name = input('Enter File: ')\n",
    "handle = open(name)\n",
    "\n",
    "counts = dict()\n",
    "for line in handle:\n",
    "    words = line.split()\n",
    "    for word in words:\n",
    "        counts[word] = counts.get(word , 0) + 1\n",
    "bigcount = None\n",
    "bigword = None\n",
    "for word,count in counts.items():\n",
    "    if bigcount is None or count > bigcount:\n",
    "        bigword = word\n",
    "        bigcount = count\n",
    "\n",
    "print(bigword,bigcount)"
   ]
  }
 ],
 "metadata": {
  "kernelspec": {
   "display_name": "Python 3",
   "language": "python",
   "name": "python3"
  },
  "language_info": {
   "codemirror_mode": {
    "name": "ipython",
    "version": 3
   },
   "file_extension": ".py",
   "mimetype": "text/x-python",
   "name": "python",
   "nbconvert_exporter": "python",
   "pygments_lexer": "ipython3",
   "version": "3.7.3"
  }
 },
 "nbformat": 4,
 "nbformat_minor": 2
}

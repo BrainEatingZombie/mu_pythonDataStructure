{
 "cells": [
  {
   "cell_type": "markdown",
   "metadata": {},
   "source": [
    "Tuples are a kind of sequence that look similar to lists. Unlike lists, tuples are immutable and are denoted by '()' instead of '[]'. Since they are immutable, tuples cannot be sorted, appended or reversed. Also for the same reason, tuples take up less memory than lists and are preferred over lists when using for temporary variables"
   ]
  },
  {
   "cell_type": "code",
   "execution_count": 4,
   "metadata": {},
   "outputs": [
    {
     "name": "stdout",
     "output_type": "stream",
     "text": [
      "Joseph\n",
      "9\n"
     ]
    }
   ],
   "source": [
    "x = ('Glenn' , 'Sally' , 'Joseph')\n",
    "print(x[2])\n",
    "y = (1 , 9 , 2)\n",
    "print(max(y))\n",
    "# y[1] = 0  #This line returns error as tuples are not mutable"
   ]
  },
  {
   "cell_type": "markdown",
   "metadata": {},
   "source": [
    "While assigning a tuple, we can put it on both sides of the equality sign. We can even omit the parenthesis. If there's a tuple on LHS of a equal sign, Python expects a Tuple to be on the RHS. While assigning the values this way, we can even assign another function."
   ]
  },
  {
   "cell_type": "code",
   "execution_count": 6,
   "metadata": {},
   "outputs": [
    {
     "name": "stdout",
     "output_type": "stream",
     "text": [
      "Fred\n",
      "99\n"
     ]
    }
   ],
   "source": [
    "(x , y) = (4 , 'Fred')\n",
    "print(y)\n",
    "(a , b) = (99 , 98)\n",
    "print(a)"
   ]
  },
  {
   "cell_type": "markdown",
   "metadata": {},
   "source": [
    "Tuples are comparable. The comparison operators work with tuples and other sequences. If the first item doesn't match the condition, Python goes on to check if the next item does and so on until it finds a match or the sequence ends."
   ]
  },
  {
   "cell_type": "code",
   "execution_count": 8,
   "metadata": {},
   "outputs": [
    {
     "name": "stdout",
     "output_type": "stream",
     "text": [
      "True\n",
      "True\n",
      "True\n",
      "True\n"
     ]
    }
   ],
   "source": [
    "print((0 , 1 , 2) < (5 , 1 , 2))\n",
    "print((0 , 1 , 2000) < (0 , 3 , 4))\n",
    "print(('Jones' , 'Sally') < ('Jones' , 'Sam'))\n",
    "print(('Jones' , 'Sally') > ('Adams' , 'Sam'))"
   ]
  },
  {
   "cell_type": "markdown",
   "metadata": {},
   "source": [
    "We can use the sorting property of a tuple to sort a dictionary. To do so, we need to sort the dictionary by key using items() and sorted()"
   ]
  },
  {
   "cell_type": "code",
   "execution_count": 12,
   "metadata": {},
   "outputs": [
    {
     "name": "stdout",
     "output_type": "stream",
     "text": [
      "dict_items([('c', 10), ('b', 1), ('a', 22)])\n",
      "[('a', 22), ('b', 1), ('c', 10)]\n",
      "a 22\n",
      "b 1\n",
      "c 10\n"
     ]
    }
   ],
   "source": [
    "d = {'c' : 10 , 'b' : 1 , 'a' : 22}\n",
    "print(d.items())\n",
    "print(sorted(d.items()))\n",
    "\n",
    "#The following method can also be used to produce the same result\n",
    "for k,v in sorted(d.items()):\n",
    "    print(k , v)"
   ]
  },
  {
   "cell_type": "markdown",
   "metadata": {},
   "source": [
    "Using the following method, we can sort a dictionary using the value instead of key. 'reverse = True' is added to sort the list in descending."
   ]
  },
  {
   "cell_type": "code",
   "execution_count": 15,
   "metadata": {},
   "outputs": [
    {
     "name": "stdout",
     "output_type": "stream",
     "text": [
      "[(10, 'a'), (1, 'b'), (22, 'c')]\n",
      "[(22, 'c'), (10, 'a'), (1, 'b')]\n"
     ]
    }
   ],
   "source": [
    "c = {'a':10 , 'b':1 , 'c':22}\n",
    "tmp = list()\n",
    "for k,v in c.items():\n",
    "    tmp.append((v , k))\n",
    "print(tmp)\n",
    "tmp = sorted(tmp , reverse = True)\n",
    "print(tmp)"
   ]
  },
  {
   "cell_type": "markdown",
   "metadata": {},
   "source": [
    "Now, we will take a text file as input and print out the 10 most common words that appear in the text"
   ]
  },
  {
   "cell_type": "code",
   "execution_count": 17,
   "metadata": {},
   "outputs": [
    {
     "name": "stdout",
     "output_type": "stream",
     "text": [
      "Jan 352\n",
      "2008 324\n",
      "by 245\n",
      "Received: 243\n",
      "-0500 219\n",
      "from 218\n",
      "4 203\n",
      "with 194\n",
      "Fri, 183\n",
      "id 136\n"
     ]
    }
   ],
   "source": [
    "fhand = open('mbox-short.txt')\n",
    "counts = dict()\n",
    "for line in fhand:\n",
    "    words = line.split()\n",
    "    for word in words:\n",
    "        counts[word] = counts.get(word , 0) + 1\n",
    "\n",
    "#        \n",
    "lst = list()\n",
    "for key , val in counts.items():\n",
    "    newtup = (val , key)\n",
    "    lst.append(newtup)\n",
    "#\n",
    "\n",
    "lst = sorted(lst , reverse = True)\n",
    "\n",
    "for val , key in lst[:10]:\n",
    "    print(key , val)"
   ]
  },
  {
   "cell_type": "markdown",
   "metadata": {},
   "source": [
    "There's an even shorter version of doing this sorting"
   ]
  },
  {
   "cell_type": "code",
   "execution_count": 19,
   "metadata": {},
   "outputs": [
    {
     "name": "stdout",
     "output_type": "stream",
     "text": [
      "[(1, 'b'), (10, 'a'), (22, 'c')]\n"
     ]
    }
   ],
   "source": [
    "c = {'a':10 , 'b':1 , 'c':22}\n",
    "# This is called List Comprehension\n",
    "# Here, the list is expressed as an expression instead of values like we did before\n",
    "# This line is same as writing the lines between '#' in previous code\n",
    "print( sorted( [ (v,k) for k,v in c.items() ] ) )"
   ]
  }
 ],
 "metadata": {
  "kernelspec": {
   "display_name": "Python 3",
   "language": "python",
   "name": "python3"
  },
  "language_info": {
   "codemirror_mode": {
    "name": "ipython",
    "version": 3
   },
   "file_extension": ".py",
   "mimetype": "text/x-python",
   "name": "python",
   "nbconvert_exporter": "python",
   "pygments_lexer": "ipython3",
   "version": "3.7.3"
  }
 },
 "nbformat": 4,
 "nbformat_minor": 2
}
